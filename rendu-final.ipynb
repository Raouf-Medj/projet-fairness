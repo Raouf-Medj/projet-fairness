{
 "cells": [
  {
   "cell_type": "code",
   "execution_count": 2,
   "metadata": {},
   "outputs": [
    {
     "name": "stdout",
     "output_type": "stream",
     "text": [
      "dropped: 320 lines\n"
     ]
    }
   ],
   "source": [
    "import pandas as pd\n",
    "\n",
    "df = pd.read_csv(\"DATA/metadata.csv\")\n",
    "df_cleaned = df.drop_duplicates()\n",
    "\n",
    "print(\"dropped:\", df.shape[0]-df_cleaned.shape[0], \"lines\")\n",
    "df_cleaned.to_csv(\"cleaned.csv\", index=False)\n",
    "\n",
    "# don't forget to remove doubles inter-sets"
   ]
  },
  {
   "cell_type": "code",
   "execution_count": 6,
   "metadata": {},
   "outputs": [
    {
     "name": "stdout",
     "output_type": "stream",
     "text": [
      "✅ All images exist in the folders!\n"
     ]
    }
   ],
   "source": [
    "import os\n",
    "import pandas as pd\n",
    "\n",
    "# Load your DataFrame\n",
    "df = pd.read_csv(\"DATA/metadata.csv\")  # Adjust file name if needed\n",
    "\n",
    "# Define the root directory where images are stored\n",
    "image_root_dir = \"DATA/\"  # Adjust this to the correct path\n",
    "\n",
    "# Get all image file names from the directory and subdirectories\n",
    "image_files = set()\n",
    "for root, _, files in os.walk(image_root_dir):\n",
    "    for file in files:\n",
    "        image_files.add(file)  # Store only the file names\n",
    "\n",
    "# Check which images exist and which are missing\n",
    "df[\"Exists\"] = df[\"Image Index\"].isin(image_files)\n",
    "\n",
    "# Get missing images\n",
    "missing_images = df.loc[~df[\"Exists\"], \"Image Index\"]\n",
    "\n",
    "# Display results\n",
    "if missing_images.empty:\n",
    "    print(\"✅ All images exist in the folders!\")\n",
    "else:\n",
    "    print(f\"⚠️ {len(missing_images)} images are missing:\")\n",
    "    print(missing_images.to_list())\n"
   ]
  },
  {
   "cell_type": "markdown",
   "metadata": {},
   "source": [
    "**HER:**<br>\n",
    "Application de méthodes dein/post processing<br>\n",
    "Apprentissage des premiers modèles de classification<br>\n",
    "Analyses desapprochesutilisées<br>\n",
    "Conclusion<br>\n",
    "\n",
    "**HIM:**<br>\n",
    " Introduction (/3)<br>\n",
    " Preparation et analyse des données (/3)<br>\n",
    " Application des méthodes depreprocessing (/5)<br>\n",
    " Application des méthodes depostprocessing (/5)<br>\n",
    " Analyse, compréhension (/3)<br>\n",
    " Conclusion (/1)"
   ]
  }
 ],
 "metadata": {
  "kernelspec": {
   "display_name": "myenv",
   "language": "python",
   "name": "python3"
  },
  "language_info": {
   "codemirror_mode": {
    "name": "ipython",
    "version": 3
   },
   "file_extension": ".py",
   "mimetype": "text/x-python",
   "name": "python",
   "nbconvert_exporter": "python",
   "pygments_lexer": "ipython3",
   "version": "3.10.12"
  }
 },
 "nbformat": 4,
 "nbformat_minor": 2
}
