{
 "cells": [
  {
   "cell_type": "markdown",
   "metadata": {},
   "source": [
    "# TEMPORARY (to save elsewhere):"
   ]
  },
  {
   "cell_type": "code",
   "execution_count": 2,
   "metadata": {},
   "outputs": [
    {
     "name": "stdout",
     "output_type": "stream",
     "text": [
      "dropped: 320 lines\n"
     ]
    }
   ],
   "source": [
    "import pandas as pd\n",
    "\n",
    "df = pd.read_csv(\"DATA/metadata.csv\")\n",
    "df_cleaned = df.drop_duplicates()\n",
    "\n",
    "print(\"dropped:\", df.shape[0]-df_cleaned.shape[0], \"lines\")\n",
    "df_cleaned.to_csv(\"cleaned.csv\", index=False)\n",
    "\n",
    "# don't forget to remove doubles inter-sets"
   ]
  },
  {
   "cell_type": "code",
   "execution_count": 6,
   "metadata": {},
   "outputs": [
    {
     "name": "stdout",
     "output_type": "stream",
     "text": [
      "✅ All images exist in the folders!\n"
     ]
    }
   ],
   "source": [
    "import os\n",
    "import pandas as pd\n",
    "\n",
    "# Load your DataFrame\n",
    "df = pd.read_csv(\"DATA/metadata.csv\")  # Adjust file name if needed\n",
    "\n",
    "# Define the root directory where images are stored\n",
    "image_root_dir = \"DATA/\"  # Adjust this to the correct path\n",
    "\n",
    "# Get all image file names from the directory and subdirectories\n",
    "image_files = set()\n",
    "for root, _, files in os.walk(image_root_dir):\n",
    "    for file in files:\n",
    "        image_files.add(file)  # Store only the file names\n",
    "\n",
    "# Check which images exist and which are missing\n",
    "df[\"Exists\"] = df[\"Image Index\"].isin(image_files)\n",
    "\n",
    "# Get missing images\n",
    "missing_images = df.loc[~df[\"Exists\"], \"Image Index\"]\n",
    "\n",
    "# Display results\n",
    "if missing_images.empty:\n",
    "    print(\"✅ All images exist in the folders!\")\n",
    "else:\n",
    "    print(f\"⚠️ {len(missing_images)} images are missing:\")\n",
    "    print(missing_images.to_list())\n"
   ]
  },
  {
   "cell_type": "markdown",
   "metadata": {},
   "source": [
    "**HER:**<br>\n",
    "Application de méthodes dein/post processing<br>\n",
    "Apprentissage des premiers modèles de classification<br>\n",
    "Analyses desapprochesutilisées<br>\n",
    "Conclusion<br>\n",
    "\n",
    "**HIM:**<br>\n",
    " Introduction (/3)<br>\n",
    " Preparation et analyse des données (/3)<br>\n",
    " Application des méthodes depreprocessing (/5)<br>\n",
    " Application des méthodes depostprocessing (/5)<br>\n",
    " Analyse, compréhension (/3)<br>\n",
    " Conclusion (/1)"
   ]
  },
  {
   "cell_type": "code",
   "execution_count": null,
   "metadata": {},
   "outputs": [
    {
     "name": "stderr",
     "output_type": "stream",
     "text": [
      "GPU available: True (cuda), used: True\n",
      "TPU available: False, using: 0 TPU cores\n",
      "HPU available: False, using: 0 HPUs\n",
      "Downloading: \"https://download.pytorch.org/models/resnet18-f37072fd.pth\" to /home/raouf/.cache/torch/hub/checkpoints/resnet18-f37072fd.pth\n",
      "100%|██████████| 44.7M/44.7M [00:06<00:00, 7.00MB/s]\n"
     ]
    },
    {
     "name": "stdout",
     "output_type": "stream",
     "text": [
      "Start training\n"
     ]
    },
    {
     "name": "stderr",
     "output_type": "stream",
     "text": [
      "2025-03-29 21:30:41.536369: E external/local_xla/xla/stream_executor/cuda/cuda_fft.cc:477] Unable to register cuFFT factory: Attempting to register factory for plugin cuFFT when one has already been registered\n",
      "WARNING: All log messages before absl::InitializeLog() is called are written to STDERR\n",
      "E0000 00:00:1743280241.623031  119670 cuda_dnn.cc:8310] Unable to register cuDNN factory: Attempting to register factory for plugin cuDNN when one has already been registered\n",
      "E0000 00:00:1743280241.649835  119670 cuda_blas.cc:1418] Unable to register cuBLAS factory: Attempting to register factory for plugin cuBLAS when one has already been registered\n",
      "2025-03-29 21:30:41.876061: I tensorflow/core/platform/cpu_feature_guard.cc:210] This TensorFlow binary is optimized to use available CPU instructions in performance-critical operations.\n",
      "To enable the following instructions: AVX2 FMA, in other operations, rebuild TensorFlow with the appropriate compiler flags.\n",
      "/home/raouf/Fairness/myenv/lib/python3.10/site-packages/pytorch_lightning/callbacks/model_checkpoint.py:654: Checkpoint directory /home/raouf/Fairness/PROJET/expe_log exists and is not empty.\n",
      "LOCAL_RANK: 0 - CUDA_VISIBLE_DEVICES: [0]\n",
      "/home/raouf/Fairness/myenv/lib/python3.10/site-packages/torch/optim/lr_scheduler.py:62: UserWarning: The verbose parameter is deprecated. Please use get_last_lr() to access the learning rate.\n",
      "  warnings.warn(\n",
      "\n",
      "  | Name  | Type                  | Params | Mode \n",
      "--------------------------------------------------------\n",
      "0 | model | ResNet                | 11.2 M | train\n",
      "1 | bcm   | BinaryConfusionMatrix | 0      | train\n",
      "--------------------------------------------------------\n",
      "11.2 M    Trainable params\n",
      "0         Non-trainable params\n",
      "11.2 M    Total params\n",
      "44.710    Total estimated model params size (MB)\n",
      "69        Modules in train mode\n",
      "0         Modules in eval mode\n"
     ]
    },
    {
     "name": "stdout",
     "output_type": "stream",
     "text": [
      "Sanity Checking: |          | 0/? [00:00<?, ?it/s]"
     ]
    },
    {
     "name": "stderr",
     "output_type": "stream",
     "text": [
      "/home/raouf/Fairness/myenv/lib/python3.10/site-packages/pytorch_lightning/trainer/connectors/data_connector.py:425: The 'val_dataloader' does not have many workers which may be a bottleneck. Consider increasing the value of the `num_workers` argument` to `num_workers=11` in the `DataLoader` to improve performance.\n"
     ]
    },
    {
     "name": "stdout",
     "output_type": "stream",
     "text": [
      "                                                                           "
     ]
    },
    {
     "name": "stderr",
     "output_type": "stream",
     "text": [
      "/home/raouf/Fairness/myenv/lib/python3.10/site-packages/pytorch_lightning/trainer/connectors/data_connector.py:425: The 'train_dataloader' does not have many workers which may be a bottleneck. Consider increasing the value of the `num_workers` argument` to `num_workers=11` in the `DataLoader` to improve performance.\n"
     ]
    },
    {
     "name": "stdout",
     "output_type": "stream",
     "text": [
      "Epoch 6: 100%|██████████| 253/253 [02:15<00:00,  1.87it/s, v_num=0]  \n",
      "End of training 923.501761674881\n",
      "Start prediction on train dataset\n",
      "Predictions done in 291.85057187080383\n",
      "Start prediction on validation dataset\n",
      "Predictions done in 384.5602533817291\n",
      "0.6835858531404821\n",
      "0.6966569236390209\n"
     ]
    }
   ],
   "source": [
    "# BEFORE PRE-PROCESSING\n",
    "\n",
    "from train_classifieur import train_classifier, pred_classifier\n",
    "\n",
    "ckpt_path, ckpt_score = train_classifier( # prend entre 20 et 60min\n",
    " logdir=\"./expe_log/\",\n",
    " datadir=\"DATA/\",\n",
    " weights_col=\"WEIGHTS\",\n",
    " csv=\"DATA/metadata.csv\")\n",
    "\n",
    "pred_classifier( # prend entre 5 et 10min\n",
    " datadir=\"DATA/\",\n",
    " csv_in=\"DATA/metadata.csv\",\n",
    " csv_out=\"./expe_log/preds.csv\",\n",
    " ckpt_path = ckpt_path)"
   ]
  },
  {
   "cell_type": "code",
   "execution_count": 8,
   "metadata": {},
   "outputs": [
    {
     "name": "stderr",
     "output_type": "stream",
     "text": [
      "/home/raouf/Fairness/myenv/lib/python3.10/site-packages/inFairness/utils/ndcg.py:37: FutureWarning: We've integrated functorch into PyTorch. As the final step of the integration, `functorch.vmap` is deprecated as of PyTorch 2.0 and will be deleted in a future version of PyTorch >= 2.3. Please use `torch.vmap` instead; see the PyTorch 2.0 release notes and/or the `torch.func` migration guide for more details https://pytorch.org/docs/main/func.migrating.html\n",
      "  vect_normalized_discounted_cumulative_gain = vmap(\n",
      "/home/raouf/Fairness/myenv/lib/python3.10/site-packages/inFairness/utils/ndcg.py:48: FutureWarning: We've integrated functorch into PyTorch. As the final step of the integration, `functorch.vmap` is deprecated as of PyTorch 2.0 and will be deleted in a future version of PyTorch >= 2.3. Please use `torch.vmap` instead; see the PyTorch 2.0 release notes and/or the `torch.func` migration guide for more details https://pytorch.org/docs/main/func.migrating.html\n",
      "  monte_carlo_vect_ndcg = vmap(vect_normalized_discounted_cumulative_gain, in_dims=(0,))\n"
     ]
    }
   ],
   "source": [
    "import pandas as pd\n",
    "import numpy as np\n",
    "import plotly.express as px\n",
    "from aif360.sklearn.metrics import disparate_impact_ratio\n",
    "from aif360.algorithms.preprocessing import Reweighing\n",
    "from aif360.datasets import BinaryLabelDataset"
   ]
  },
  {
   "cell_type": "code",
   "execution_count": null,
   "metadata": {},
   "outputs": [],
   "source": [
    "# PRE-PROCESSING\n",
    "# DONE ON \"1st_part.ipynb\"\n",
    "df = pd.read_csv(\"./DATA/metadata.csv\")\n",
    "\n",
    "print(df.shape)\n",
    "# Affichons les 5 premiers points de donnée du dataset\n",
    "df.head()"
   ]
  },
  {
   "cell_type": "code",
   "execution_count": 1,
   "metadata": {},
   "outputs": [
    {
     "name": "stderr",
     "output_type": "stream",
     "text": [
      "GPU available: True (cuda), used: True\n",
      "TPU available: False, using: 0 TPU cores\n",
      "HPU available: False, using: 0 HPUs\n"
     ]
    },
    {
     "name": "stdout",
     "output_type": "stream",
     "text": [
      "Start training\n"
     ]
    },
    {
     "name": "stderr",
     "output_type": "stream",
     "text": [
      "2025-03-30 18:42:14.699843: E external/local_xla/xla/stream_executor/cuda/cuda_fft.cc:477] Unable to register cuFFT factory: Attempting to register factory for plugin cuFFT when one has already been registered\n",
      "WARNING: All log messages before absl::InitializeLog() is called are written to STDERR\n",
      "E0000 00:00:1743352934.784955    1188 cuda_dnn.cc:8310] Unable to register cuDNN factory: Attempting to register factory for plugin cuDNN when one has already been registered\n",
      "E0000 00:00:1743352934.811306    1188 cuda_blas.cc:1418] Unable to register cuBLAS factory: Attempting to register factory for plugin cuBLAS when one has already been registered\n",
      "2025-03-30 18:42:15.033044: I tensorflow/core/platform/cpu_feature_guard.cc:210] This TensorFlow binary is optimized to use available CPU instructions in performance-critical operations.\n",
      "To enable the following instructions: AVX2 FMA, in other operations, rebuild TensorFlow with the appropriate compiler flags.\n",
      "/home/raouf/Fairness/myenv/lib/python3.10/site-packages/pytorch_lightning/callbacks/model_checkpoint.py:654: Checkpoint directory /home/raouf/Fairness/PROJET/expe_log exists and is not empty.\n",
      "LOCAL_RANK: 0 - CUDA_VISIBLE_DEVICES: [0]\n",
      "/home/raouf/Fairness/myenv/lib/python3.10/site-packages/torch/optim/lr_scheduler.py:62: UserWarning: The verbose parameter is deprecated. Please use get_last_lr() to access the learning rate.\n",
      "  warnings.warn(\n",
      "\n",
      "  | Name  | Type                  | Params | Mode \n",
      "--------------------------------------------------------\n",
      "0 | model | ResNet                | 11.2 M | train\n",
      "1 | bcm   | BinaryConfusionMatrix | 0      | train\n",
      "--------------------------------------------------------\n",
      "11.2 M    Trainable params\n",
      "0         Non-trainable params\n",
      "11.2 M    Total params\n",
      "44.710    Total estimated model params size (MB)\n",
      "69        Modules in train mode\n",
      "0         Modules in eval mode\n"
     ]
    },
    {
     "name": "stdout",
     "output_type": "stream",
     "text": [
      "Sanity Checking DataLoader 0:   0%|          | 0/2 [00:00<?, ?it/s]"
     ]
    },
    {
     "name": "stderr",
     "output_type": "stream",
     "text": [
      "/home/raouf/Fairness/myenv/lib/python3.10/site-packages/pytorch_lightning/trainer/connectors/data_connector.py:425: The 'val_dataloader' does not have many workers which may be a bottleneck. Consider increasing the value of the `num_workers` argument` to `num_workers=11` in the `DataLoader` to improve performance.\n"
     ]
    },
    {
     "name": "stdout",
     "output_type": "stream",
     "text": [
      "                                                                           "
     ]
    },
    {
     "name": "stderr",
     "output_type": "stream",
     "text": [
      "/home/raouf/Fairness/myenv/lib/python3.10/site-packages/pytorch_lightning/trainer/connectors/data_connector.py:425: The 'train_dataloader' does not have many workers which may be a bottleneck. Consider increasing the value of the `num_workers` argument` to `num_workers=11` in the `DataLoader` to improve performance.\n"
     ]
    },
    {
     "name": "stdout",
     "output_type": "stream",
     "text": [
      "Epoch 7: 100%|██████████| 253/253 [02:11<00:00,  1.92it/s, v_num=2]\n",
      "End of training 1018.1326577663422\n",
      "Start prediction on train dataset\n",
      "Predictions done in 244.5233039855957\n",
      "Start prediction on validation dataset\n",
      "Predictions done in 326.81150102615356\n",
      "0.6923151650880994\n",
      "0.6937414344449521\n"
     ]
    }
   ],
   "source": [
    "# AFTER PRE-PROCESSING\n",
    "\n",
    "from train_classifieur import train_classifier, pred_classifier\n",
    "\n",
    "ckpt_path, ckpt_score = train_classifier( # prend entre 20 et 60min\n",
    " logdir=\"./expe_log/\",\n",
    " datadir=\"DATA/\",\n",
    " weights_col=\"WEIGHTS\",\n",
    " csv=\"DATA/preprocessed.csv\")\n",
    "\n",
    "pred_classifier( # prend entre 5 et 10min\n",
    " datadir=\"DATA/\",\n",
    " csv_in=\"DATA/preprocessed.csv\",\n",
    " csv_out=\"./expe_log/preds.csv\",\n",
    " ckpt_path = ckpt_path)"
   ]
  },
  {
   "cell_type": "code",
   "execution_count": 2,
   "metadata": {},
   "outputs": [
    {
     "name": "stderr",
     "output_type": "stream",
     "text": [
      "GPU available: True (cuda), used: True\n",
      "TPU available: False, using: 0 TPU cores\n",
      "HPU available: False, using: 0 HPUs\n",
      "/home/raouf/Fairness/myenv/lib/python3.10/site-packages/pytorch_lightning/callbacks/model_checkpoint.py:654: Checkpoint directory /home/raouf/Fairness/PROJET/expe_log exists and is not empty.\n",
      "LOCAL_RANK: 0 - CUDA_VISIBLE_DEVICES: [0]\n",
      "/home/raouf/Fairness/myenv/lib/python3.10/site-packages/torch/optim/lr_scheduler.py:62: UserWarning: The verbose parameter is deprecated. Please use get_last_lr() to access the learning rate.\n",
      "  warnings.warn(\n",
      "\n",
      "  | Name  | Type                  | Params | Mode \n",
      "--------------------------------------------------------\n",
      "0 | model | ResNet                | 11.2 M | train\n",
      "1 | bcm   | BinaryConfusionMatrix | 0      | train\n",
      "--------------------------------------------------------\n",
      "11.2 M    Trainable params\n",
      "0         Non-trainable params\n",
      "11.2 M    Total params\n",
      "44.710    Total estimated model params size (MB)\n",
      "69        Modules in train mode\n",
      "0         Modules in eval mode\n"
     ]
    },
    {
     "name": "stdout",
     "output_type": "stream",
     "text": [
      "Start training\n",
      "Sanity Checking: |          | 0/? [00:00<?, ?it/s]"
     ]
    },
    {
     "name": "stderr",
     "output_type": "stream",
     "text": [
      "/home/raouf/Fairness/myenv/lib/python3.10/site-packages/pytorch_lightning/trainer/connectors/data_connector.py:425: The 'val_dataloader' does not have many workers which may be a bottleneck. Consider increasing the value of the `num_workers` argument` to `num_workers=11` in the `DataLoader` to improve performance.\n"
     ]
    },
    {
     "name": "stdout",
     "output_type": "stream",
     "text": [
      "                                                                           "
     ]
    },
    {
     "name": "stderr",
     "output_type": "stream",
     "text": [
      "/home/raouf/Fairness/myenv/lib/python3.10/site-packages/pytorch_lightning/trainer/connectors/data_connector.py:425: The 'train_dataloader' does not have many workers which may be a bottleneck. Consider increasing the value of the `num_workers` argument` to `num_workers=11` in the `DataLoader` to improve performance.\n"
     ]
    },
    {
     "name": "stdout",
     "output_type": "stream",
     "text": [
      "Epoch 8: 100%|██████████| 253/253 [02:04<00:00,  2.04it/s, v_num=3]\n",
      "End of training 1174.522694349289\n",
      "Start prediction on train dataset\n",
      "Predictions done in 256.39493680000305\n",
      "Start prediction on validation dataset\n",
      "Predictions done in 344.18571305274963\n",
      "0.6884023145697034\n",
      "0.6981269986295112\n"
     ]
    }
   ],
   "source": [
    "# AFTER PRE-PROCESSING AGE\n",
    "\n",
    "from train_classifieur import train_classifier, pred_classifier\n",
    "\n",
    "ckpt_path, ckpt_score = train_classifier( # prend entre 20 et 60min\n",
    " logdir=\"./expe_log/\",\n",
    " datadir=\"DATA/\",\n",
    " weights_col=\"WEIGHTS\",\n",
    " csv=\"DATA/preprocessed_age.csv\")\n",
    "\n",
    "pred_classifier( # prend entre 5 et 10min\n",
    " datadir=\"DATA/\",\n",
    " csv_in=\"DATA/preprocessed_age.csv\",\n",
    " csv_out=\"./expe_log/preds.csv\",\n",
    " ckpt_path = ckpt_path)"
   ]
  }
 ],
 "metadata": {
  "kernelspec": {
   "display_name": "myenv",
   "language": "python",
   "name": "python3"
  },
  "language_info": {
   "codemirror_mode": {
    "name": "ipython",
    "version": 3
   },
   "file_extension": ".py",
   "mimetype": "text/x-python",
   "name": "python",
   "nbconvert_exporter": "python",
   "pygments_lexer": "ipython3",
   "version": "3.10.12"
  }
 },
 "nbformat": 4,
 "nbformat_minor": 2
}
