{
 "cells": [
  {
   "cell_type": "markdown",
   "metadata": {},
   "source": [
    "### Ce notebook contient les cellules d'entrainement de modèle\n",
    "---"
   ]
  },
  {
   "cell_type": "markdown",
   "metadata": {},
   "source": [
    "#### Import des librairies"
   ]
  },
  {
   "cell_type": "code",
   "execution_count": 2,
   "metadata": {},
   "outputs": [],
   "source": [
    "# from train_classifieur import train_classifier, pred_classifier\n",
    "from train_classifieur_pseudo_proba import train_classifier, pred_classifier\n",
    "DATA_DIR = \"./DATA\"\n",
    "PREDS_DIR = \"./expe_log\""
   ]
  },
  {
   "cell_type": "markdown",
   "metadata": {},
   "source": [
    "---"
   ]
  },
  {
   "cell_type": "markdown",
   "metadata": {},
   "source": [
    "#### Entrainement sur les données originales (non modifiées)"
   ]
  },
  {
   "cell_type": "code",
   "execution_count": 4,
   "metadata": {},
   "outputs": [
    {
     "name": "stderr",
     "output_type": "stream",
     "text": [
      "GPU available: True (cuda), used: True\n",
      "TPU available: False, using: 0 TPU cores\n",
      "HPU available: False, using: 0 HPUs\n"
     ]
    },
    {
     "name": "stdout",
     "output_type": "stream",
     "text": [
      "Start training\n"
     ]
    },
    {
     "name": "stderr",
     "output_type": "stream",
     "text": [
      "2025-04-06 11:09:55.133450: E external/local_xla/xla/stream_executor/cuda/cuda_fft.cc:477] Unable to register cuFFT factory: Attempting to register factory for plugin cuFFT when one has already been registered\n",
      "WARNING: All log messages before absl::InitializeLog() is called are written to STDERR\n",
      "E0000 00:00:1743930595.427130     967 cuda_dnn.cc:8310] Unable to register cuDNN factory: Attempting to register factory for plugin cuDNN when one has already been registered\n",
      "E0000 00:00:1743930595.567321     967 cuda_blas.cc:1418] Unable to register cuBLAS factory: Attempting to register factory for plugin cuBLAS when one has already been registered\n",
      "2025-04-06 11:09:56.159025: I tensorflow/core/platform/cpu_feature_guard.cc:210] This TensorFlow binary is optimized to use available CPU instructions in performance-critical operations.\n",
      "To enable the following instructions: AVX2 FMA, in other operations, rebuild TensorFlow with the appropriate compiler flags.\n",
      "/home/raouf/Fairness/myenv/lib/python3.10/site-packages/pytorch_lightning/callbacks/model_checkpoint.py:654: Checkpoint directory /home/raouf/Fairness/PROJET/expe_log exists and is not empty.\n",
      "LOCAL_RANK: 0 - CUDA_VISIBLE_DEVICES: [0]\n",
      "/home/raouf/Fairness/myenv/lib/python3.10/site-packages/torch/optim/lr_scheduler.py:62: UserWarning: The verbose parameter is deprecated. Please use get_last_lr() to access the learning rate.\n",
      "  warnings.warn(\n",
      "\n",
      "  | Name  | Type                  | Params | Mode \n",
      "--------------------------------------------------------\n",
      "0 | model | ResNet                | 11.2 M | train\n",
      "1 | bcm   | BinaryConfusionMatrix | 0      | train\n",
      "--------------------------------------------------------\n",
      "11.2 M    Trainable params\n",
      "0         Non-trainable params\n",
      "11.2 M    Total params\n",
      "44.710    Total estimated model params size (MB)\n",
      "69        Modules in train mode\n",
      "0         Modules in eval mode\n"
     ]
    },
    {
     "name": "stdout",
     "output_type": "stream",
     "text": [
      "Epoch 3: 100%|██████████| 253/253 [02:13<00:00,  1.90it/s, v_num=0]        \n",
      "End of training 560.2545628547668\n",
      "Start prediction on train dataset\n",
      "Predictions done in 318.37798738479614\n",
      "Start prediction on validation dataset\n",
      "Predictions done in 426.15809965133667\n",
      "0.6703293719035888\n",
      "0.6644135915235659\n"
     ]
    }
   ],
   "source": [
    "# On train le modèle sur les données originales\n",
    "ckpt_path, ckpt_score = train_classifier(\n",
    "    logdir=\"./expe_log/\",\n",
    "    datadir=DATA_DIR,\n",
    "    csv=DATA_DIR+\"/metadata.csv\",\n",
    ")\n",
    "\n",
    "# On fait des prédictions\n",
    "pred_classifier(\n",
    "    datadir=DATA_DIR,\n",
    "    csv_in=DATA_DIR+\"/metadata.csv\",\n",
    "    csv_out=\"./expe_log/preds.csv\",\n",
    "    ckpt_path=ckpt_path\n",
    ")"
   ]
  },
  {
   "cell_type": "markdown",
   "metadata": {},
   "source": [
    "---"
   ]
  },
  {
   "cell_type": "markdown",
   "metadata": {},
   "source": [
    "#### Entrainement sur les données transformées avec Reweighing"
   ]
  },
  {
   "cell_type": "code",
   "execution_count": 6,
   "metadata": {},
   "outputs": [
    {
     "name": "stderr",
     "output_type": "stream",
     "text": [
      "GPU available: True (cuda), used: True\n",
      "TPU available: False, using: 0 TPU cores\n",
      "HPU available: False, using: 0 HPUs\n",
      "/home/raouf/Fairness/myenv/lib/python3.10/site-packages/pytorch_lightning/callbacks/model_checkpoint.py:654: Checkpoint directory /home/raouf/Fairness/PROJET/expe_log exists and is not empty.\n",
      "LOCAL_RANK: 0 - CUDA_VISIBLE_DEVICES: [0]\n",
      "/home/raouf/Fairness/myenv/lib/python3.10/site-packages/torch/optim/lr_scheduler.py:62: UserWarning: The verbose parameter is deprecated. Please use get_last_lr() to access the learning rate.\n",
      "  warnings.warn(\n",
      "\n",
      "  | Name  | Type                  | Params | Mode \n",
      "--------------------------------------------------------\n",
      "0 | model | ResNet                | 11.2 M | train\n",
      "1 | bcm   | BinaryConfusionMatrix | 0      | train\n",
      "--------------------------------------------------------\n",
      "11.2 M    Trainable params\n",
      "0         Non-trainable params\n",
      "11.2 M    Total params\n",
      "44.710    Total estimated model params size (MB)\n",
      "69        Modules in train mode\n",
      "0         Modules in eval mode\n"
     ]
    },
    {
     "name": "stdout",
     "output_type": "stream",
     "text": [
      "Start training\n",
      "Epoch 7: 100%|██████████| 253/253 [02:23<00:00,  1.77it/s, v_num=1]        \n",
      "End of training 965.2609393596649\n",
      "Start prediction on train dataset\n"
     ]
    },
    {
     "name": "stderr",
     "output_type": "stream",
     "text": [
      "/home/raouf/Fairness/PROJET/train_classifieur_pseudo_proba.py:270: FutureWarning: Setting an item of incompatible dtype is deprecated and will raise an error in a future version of pandas. Value 'malade' has dtype incompatible with int64, please explicitly cast to a compatible dtype first.\n",
      "  df.loc[df[\"Image Index\"] == img_name, \"labels\"] = label_decoder[label]\n"
     ]
    },
    {
     "name": "stdout",
     "output_type": "stream",
     "text": [
      "Predictions done in 282.75914549827576\n",
      "Start prediction on validation dataset\n",
      "Predictions done in 375.9005227088928\n",
      "0.6866841948902376\n",
      "0.6909090909090909\n"
     ]
    }
   ],
   "source": [
    "# On train le modèle sur les données repondérées avec Reweighing\n",
    "ckpt_path, ckpt_score = train_classifier(\n",
    "    logdir=\"./expe_log/\",\n",
    "    datadir=DATA_DIR,\n",
    "    csv=DATA_DIR+\"/metadata_RW.csv\",\n",
    ")\n",
    "\n",
    "# On fait des prédictions\n",
    "pred_classifier(\n",
    "    datadir=DATA_DIR,\n",
    "    csv_in=DATA_DIR+\"/metadata_RW.csv\",\n",
    "    csv_out=\"./expe_log/preds_RW.csv\",\n",
    "    ckpt_path=ckpt_path\n",
    ")"
   ]
  },
  {
   "cell_type": "markdown",
   "metadata": {},
   "source": [
    "---"
   ]
  },
  {
   "cell_type": "markdown",
   "metadata": {},
   "source": [
    "#### Entrainement sur les données transformées avec DisparateImpactRemover (DIR)"
   ]
  },
  {
   "cell_type": "code",
   "execution_count": 3,
   "metadata": {},
   "outputs": [
    {
     "name": "stderr",
     "output_type": "stream",
     "text": [
      "GPU available: True (cuda), used: True\n",
      "TPU available: False, using: 0 TPU cores\n",
      "HPU available: False, using: 0 HPUs\n"
     ]
    },
    {
     "name": "stdout",
     "output_type": "stream",
     "text": [
      "Start training\n"
     ]
    },
    {
     "name": "stderr",
     "output_type": "stream",
     "text": [
      "2025-04-06 16:27:43.211186: E external/local_xla/xla/stream_executor/cuda/cuda_fft.cc:477] Unable to register cuFFT factory: Attempting to register factory for plugin cuFFT when one has already been registered\n",
      "WARNING: All log messages before absl::InitializeLog() is called are written to STDERR\n",
      "E0000 00:00:1743949663.375087   25135 cuda_dnn.cc:8310] Unable to register cuDNN factory: Attempting to register factory for plugin cuDNN when one has already been registered\n",
      "E0000 00:00:1743949663.433853   25135 cuda_blas.cc:1418] Unable to register cuBLAS factory: Attempting to register factory for plugin cuBLAS when one has already been registered\n",
      "2025-04-06 16:27:44.017224: I tensorflow/core/platform/cpu_feature_guard.cc:210] This TensorFlow binary is optimized to use available CPU instructions in performance-critical operations.\n",
      "To enable the following instructions: AVX2 FMA, in other operations, rebuild TensorFlow with the appropriate compiler flags.\n",
      "/home/raouf/Fairness/myenv/lib/python3.10/site-packages/pytorch_lightning/callbacks/model_checkpoint.py:654: Checkpoint directory /home/raouf/Fairness/PROJET/expe_log exists and is not empty.\n",
      "LOCAL_RANK: 0 - CUDA_VISIBLE_DEVICES: [0]\n",
      "/home/raouf/Fairness/myenv/lib/python3.10/site-packages/torch/optim/lr_scheduler.py:62: UserWarning: The verbose parameter is deprecated. Please use get_last_lr() to access the learning rate.\n",
      "  warnings.warn(\n",
      "\n",
      "  | Name  | Type                  | Params | Mode \n",
      "--------------------------------------------------------\n",
      "0 | model | ResNet                | 11.2 M | train\n",
      "1 | bcm   | BinaryConfusionMatrix | 0      | train\n",
      "--------------------------------------------------------\n",
      "11.2 M    Trainable params\n",
      "0         Non-trainable params\n",
      "11.2 M    Total params\n",
      "44.710    Total estimated model params size (MB)\n",
      "69        Modules in train mode\n",
      "0         Modules in eval mode\n"
     ]
    },
    {
     "name": "stdout",
     "output_type": "stream",
     "text": [
      "Epoch 5: 100%|██████████| 253/253 [02:23<00:00,  1.77it/s, v_num=3]        \n",
      "End of training 931.0718643665314\n",
      "Start prediction on train dataset\n"
     ]
    },
    {
     "name": "stderr",
     "output_type": "stream",
     "text": [
      "/home/raouf/Fairness/PROJET/train_classifieur_pseudo_proba.py:270: FutureWarning: Setting an item of incompatible dtype is deprecated and will raise an error in a future version of pandas. Value 'malade' has dtype incompatible with float64, please explicitly cast to a compatible dtype first.\n",
      "  df.loc[df[\"Image Index\"] == img_name, \"labels\"] = label_decoder[label]\n"
     ]
    },
    {
     "name": "stdout",
     "output_type": "stream",
     "text": [
      "Predictions done in 400.21607518196106\n",
      "Start prediction on validation dataset\n",
      "Predictions done in 547.6499922275543\n",
      "0.6967189045353612\n",
      "0.6986751941525811\n"
     ]
    }
   ],
   "source": [
    "# On train le modèle sur les données transformées avec DisparateImpactRemover\n",
    "ckpt_path, ckpt_score = train_classifier(\n",
    "    logdir=\"./expe_log/\",\n",
    "    datadir=DATA_DIR,\n",
    "    csv=DATA_DIR+\"/metadata_DIR.csv\",\n",
    ")\n",
    "\n",
    "# On fait des prédictions\n",
    "pred_classifier(\n",
    "    datadir=DATA_DIR,\n",
    "    csv_in=DATA_DIR+\"/metadata_DIR.csv\",\n",
    "    csv_out=\"./expe_log/preds_DIR.csv\",\n",
    "    ckpt_path=ckpt_path\n",
    ")"
   ]
  },
  {
   "cell_type": "markdown",
   "metadata": {},
   "source": [
    "---"
   ]
  },
  {
   "cell_type": "markdown",
   "metadata": {},
   "source": [
    "#### Entrainement sur les données transformées avec LFR"
   ]
  },
  {
   "cell_type": "code",
   "execution_count": 5,
   "metadata": {},
   "outputs": [
    {
     "name": "stderr",
     "output_type": "stream",
     "text": [
      "GPU available: True (cuda), used: True\n",
      "TPU available: False, using: 0 TPU cores\n",
      "HPU available: False, using: 0 HPUs\n",
      "/home/raouf/Fairness/myenv/lib/python3.10/site-packages/pytorch_lightning/callbacks/model_checkpoint.py:654: Checkpoint directory /home/raouf/Fairness/PROJET/expe_log exists and is not empty.\n",
      "LOCAL_RANK: 0 - CUDA_VISIBLE_DEVICES: [0]\n"
     ]
    },
    {
     "name": "stdout",
     "output_type": "stream",
     "text": [
      "Start training\n"
     ]
    },
    {
     "name": "stderr",
     "output_type": "stream",
     "text": [
      "/home/raouf/Fairness/myenv/lib/python3.10/site-packages/torch/optim/lr_scheduler.py:62: UserWarning: The verbose parameter is deprecated. Please use get_last_lr() to access the learning rate.\n",
      "  warnings.warn(\n",
      "\n",
      "  | Name  | Type                  | Params | Mode \n",
      "--------------------------------------------------------\n",
      "0 | model | ResNet                | 11.2 M | train\n",
      "1 | bcm   | BinaryConfusionMatrix | 0      | train\n",
      "--------------------------------------------------------\n",
      "11.2 M    Trainable params\n",
      "0         Non-trainable params\n",
      "11.2 M    Total params\n",
      "44.710    Total estimated model params size (MB)\n",
      "69        Modules in train mode\n",
      "0         Modules in eval mode\n"
     ]
    },
    {
     "name": "stdout",
     "output_type": "stream",
     "text": [
      "Epoch 8: 100%|██████████| 253/253 [01:56<00:00,  2.17it/s, v_num=4]        \n",
      "End of training 1127.6103966236115\n",
      "Start prediction on train dataset\n"
     ]
    },
    {
     "name": "stderr",
     "output_type": "stream",
     "text": [
      "/home/raouf/Fairness/PROJET/train_classifieur_pseudo_proba.py:270: FutureWarning: Setting an item of incompatible dtype is deprecated and will raise an error in a future version of pandas. Value 'malade' has dtype incompatible with float64, please explicitly cast to a compatible dtype first.\n",
      "  df.loc[df[\"Image Index\"] == img_name, \"labels\"] = label_decoder[label]\n"
     ]
    },
    {
     "name": "stdout",
     "output_type": "stream",
     "text": [
      "Predictions done in 342.6686933040619\n",
      "Start prediction on validation dataset\n",
      "Predictions done in 467.15008449554443\n",
      "0.6792526580587843\n",
      "0.6924623115577889\n"
     ]
    }
   ],
   "source": [
    "# On train le modèle sur les données transformées avec LFR\n",
    "ckpt_path, ckpt_score = train_classifier(\n",
    "    logdir=\"./expe_log/\",\n",
    "    datadir=DATA_DIR,\n",
    "    csv=DATA_DIR+\"/metadata_LFR.csv\",\n",
    ")\n",
    "\n",
    "# On fait des prédictions\n",
    "pred_classifier(\n",
    "    datadir=DATA_DIR,\n",
    "    csv_in=DATA_DIR+\"/metadata_LFR.csv\",\n",
    "    csv_out=\"./expe_log/preds_LFR.csv\",\n",
    "    ckpt_path=ckpt_path\n",
    ")"
   ]
  }
 ],
 "metadata": {
  "kernelspec": {
   "display_name": "myenv",
   "language": "python",
   "name": "python3"
  },
  "language_info": {
   "codemirror_mode": {
    "name": "ipython",
    "version": 3
   },
   "file_extension": ".py",
   "mimetype": "text/x-python",
   "name": "python",
   "nbconvert_exporter": "python",
   "pygments_lexer": "ipython3",
   "version": "3.10.12"
  }
 },
 "nbformat": 4,
 "nbformat_minor": 2
}
